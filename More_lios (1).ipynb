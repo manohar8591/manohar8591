{
  "cells": [
    {
      "cell_type": "markdown",
      "metadata": {
        "id": "sOm9PFrT8mGG"
      },
      "source": [
        "# Saving data to Google Sheets\n",
        "\n",
        "\n",
        "This snippet uses the open-source [gspread](https://github.com/burnash/gspread) library for interacting with Sheets."
      ]
    },
    {
      "cell_type": "code",
      "source": [
        "square=[]\n",
        "for i in range(10):\n",
        "  square.append(i**2)\n",
        "print(square)"
      ],
      "metadata": {
        "colab": {
          "base_uri": "https://localhost:8080/"
        },
        "id": "Xa6lBxFjre66",
        "outputId": "9bece85f-9e5f-4ddc-cd80-63e2b630d8b1"
      },
      "execution_count": null,
      "outputs": [
        {
          "output_type": "stream",
          "name": "stdout",
          "text": [
            "[0, 1, 4, 9, 16, 25, 36, 49, 64, 81]\n"
          ]
        }
      ]
    },
    {
      "cell_type": "code",
      "source": [
        "[i**2 for i in range10]"
      ],
      "metadata": {
        "id": "Czwa8uMpVrM2",
        "colab": {
          "base_uri": "https://localhost:8080/",
          "height": 165
        },
        "outputId": "11ee5aac-427a-43f9-b928-a2f3ed7a47eb"
      },
      "execution_count": null,
      "outputs": [
        {
          "output_type": "error",
          "ename": "NameError",
          "evalue": "ignored",
          "traceback": [
            "\u001b[0;31m---------------------------------------------------------------------------\u001b[0m",
            "\u001b[0;31mNameError\u001b[0m                                 Traceback (most recent call last)",
            "\u001b[0;32m<ipython-input-39-5d4a1427fe30>\u001b[0m in \u001b[0;36m<module>\u001b[0;34m()\u001b[0m\n\u001b[0;32m----> 1\u001b[0;31m \u001b[0;34m[\u001b[0m\u001b[0mi\u001b[0m\u001b[0;34m**\u001b[0m\u001b[0;36m2\u001b[0m \u001b[0;32mfor\u001b[0m \u001b[0mi\u001b[0m \u001b[0;32min\u001b[0m \u001b[0mrange10\u001b[0m\u001b[0;34m]\u001b[0m\u001b[0;34m\u001b[0m\u001b[0;34m\u001b[0m\u001b[0m\n\u001b[0m",
            "\u001b[0;31mNameError\u001b[0m: name 'range10' is not defined"
          ]
        }
      ]
    },
    {
      "cell_type": "code",
      "source": [
        "print(2)\n",
        "\n",
        "\n",
        "\n",
        "\n",
        "name=\"apple\"\n",
        "reverse=\"\"\n",
        "for i in name:\n",
        "  reverse =i+reverse\n",
        "print(reverse)\n",
        "\n",
        "n-788\n",
        "reverse=0\n",
        "while(n>0):\n",
        "  num = n%10\n",
        "  reverse=reverse*10 + num\n",
        "  n=n//10\n",
        "print(reverse)\n",
        "\n",
        "\n",
        "\n"
      ],
      "metadata": {
        "id": "Y3wvMCM-wKIW",
        "colab": {
          "base_uri": "https://localhost:8080/",
          "height": 269
        },
        "outputId": "5bcfa373-6e1d-4927-fd81-a6061abf28ee"
      },
      "execution_count": null,
      "outputs": [
        {
          "metadata": {
            "tags": null
          },
          "name": "stdout",
          "output_type": "stream",
          "text": [
            "2\n",
            "elppa\n"
          ]
        },
        {
          "output_type": "error",
          "ename": "KeyboardInterrupt",
          "evalue": "ignored",
          "traceback": [
            "\u001b[0;31m---------------------------------------------------------------------------\u001b[0m",
            "\u001b[0;31mKeyboardInterrupt\u001b[0m                         Traceback (most recent call last)",
            "\u001b[0;32m<ipython-input-35-6b353254fb39>\u001b[0m in \u001b[0;36m<module>\u001b[0;34m()\u001b[0m\n\u001b[1;32m     13\u001b[0m \u001b[0mreverse\u001b[0m\u001b[0;34m=\u001b[0m\u001b[0;36m0\u001b[0m\u001b[0;34m\u001b[0m\u001b[0;34m\u001b[0m\u001b[0m\n\u001b[1;32m     14\u001b[0m \u001b[0;32mwhile\u001b[0m\u001b[0;34m(\u001b[0m\u001b[0mn\u001b[0m\u001b[0;34m>\u001b[0m\u001b[0;36m0\u001b[0m\u001b[0;34m)\u001b[0m\u001b[0;34m:\u001b[0m\u001b[0;34m\u001b[0m\u001b[0;34m\u001b[0m\u001b[0m\n\u001b[0;32m---> 15\u001b[0;31m   \u001b[0mnum\u001b[0m \u001b[0;34m=\u001b[0m \u001b[0mn\u001b[0m\u001b[0;34m%\u001b[0m\u001b[0;36m10\u001b[0m\u001b[0;34m\u001b[0m\u001b[0;34m\u001b[0m\u001b[0m\n\u001b[0m\u001b[1;32m     16\u001b[0m   \u001b[0mreverse\u001b[0m\u001b[0;34m=\u001b[0m\u001b[0mreverse\u001b[0m\u001b[0;34m*\u001b[0m\u001b[0;36m10\u001b[0m \u001b[0;34m+\u001b[0m \u001b[0mnum\u001b[0m\u001b[0;34m\u001b[0m\u001b[0;34m\u001b[0m\u001b[0m\n\u001b[1;32m     17\u001b[0m \u001b[0mprint\u001b[0m\u001b[0;34m(\u001b[0m\u001b[0mreverse\u001b[0m\u001b[0;34m)\u001b[0m\u001b[0;34m\u001b[0m\u001b[0;34m\u001b[0m\u001b[0m\n",
            "\u001b[0;31mKeyboardInterrupt\u001b[0m: "
          ]
        }
      ]
    },
    {
      "cell_type": "code",
      "source": [
        "fruits=['orange','apple','pear','banana','kiwi','apple','banana']\n",
        "print(fruits[::-1])"
      ],
      "metadata": {
        "colab": {
          "base_uri": "https://localhost:8080/"
        },
        "id": "iP9LWYPO2GWj",
        "outputId": "e4f91912-89eb-4ecd-d9ae-88882c0f2a6f"
      },
      "execution_count": null,
      "outputs": [
        {
          "output_type": "stream",
          "name": "stdout",
          "text": [
            "['banana', 'apple', 'kiwi', 'banana', 'pear', 'apple', 'orange']\n"
          ]
        }
      ]
    },
    {
      "cell_type": "code",
      "source": [
        "fruits=['orange','apple','pear','banana','kiwi','apple','banana']\n",
        "fruits.pop()\n",
        "print(fruits)\n",
        "\n",
        "del fruits[2]\n",
        "\n",
        "print(fruits)\n",
        "\n",
        "fruits.append(\"grape\")\n",
        "\n",
        "print(fruits)\n",
        "print(fruits.pop())\n",
        "print(fruits)\n",
        "\n",
        "\n",
        "\n",
        "\n"
      ],
      "metadata": {
        "colab": {
          "base_uri": "https://localhost:8080/"
        },
        "id": "5eVeBCEx2o3v",
        "outputId": "7b2c318b-c33b-4be1-fea7-4d4b3f746cd7"
      },
      "execution_count": null,
      "outputs": [
        {
          "output_type": "stream",
          "name": "stdout",
          "text": [
            "['orange', 'apple', 'pear', 'banana', 'kiwi', 'apple']\n",
            "['orange', 'apple', 'banana', 'kiwi', 'apple']\n",
            "['orange', 'apple', 'banana', 'kiwi', 'apple', 'grape']\n",
            "grape\n",
            "['orange', 'apple', 'banana', 'kiwi', 'apple']\n"
          ]
        }
      ]
    },
    {
      "cell_type": "code",
      "source": [
        "from collections import deque\n",
        "\n",
        "queue = deque([\"Eric\",\"John\",\"Michael\"])\n",
        "\n",
        "print(queue)\n",
        "\n",
        "queue.popleft()\n",
        "print(queue)\n",
        "queue.popleft()\n",
        "print(queue)"
      ],
      "metadata": {
        "colab": {
          "base_uri": "https://localhost:8080/"
        },
        "id": "HkDeVBlbhAJk",
        "outputId": "4910335b-6a82-4f16-9ab8-6e10fcc07726"
      },
      "execution_count": null,
      "outputs": [
        {
          "output_type": "stream",
          "name": "stdout",
          "text": [
            "deque(['Eric', 'John', 'Michael'])\n",
            "deque(['John', 'Michael'])\n",
            "deque(['Michael'])\n"
          ]
        }
      ]
    },
    {
      "cell_type": "code",
      "source": [
        "fruits=['orange','apple','pear','banana','kiwi','apple','banana']\n",
        "fruits.count('apple')\n",
        "\n",
        "print(fruits.index('banana'))\n",
        "print(fruits.index('banana',4))"
      ],
      "metadata": {
        "colab": {
          "base_uri": "https://localhost:8080/"
        },
        "id": "to16G89Uw0-W",
        "outputId": "74e6c31a-f858-4907-fb48-decafe731000"
      },
      "execution_count": null,
      "outputs": [
        {
          "output_type": "stream",
          "name": "stdout",
          "text": [
            "3\n",
            "6\n"
          ]
        }
      ]
    },
    {
      "cell_type": "markdown",
      "source": [
        "# New Section"
      ],
      "metadata": {
        "id": "iCrZ9IO-w2Wc"
      }
    },
    {
      "cell_type": "markdown",
      "source": [
        ""
      ],
      "metadata": {
        "id": "4UZSYXMyw5sE"
      }
    },
    {
      "cell_type": "code",
      "source": [
        "fruits=['orange','apple','pear','banana','kiwi','apple','banana']\n",
        "fruits.count('apple')\n",
        "\n",
        "\n",
        "desc=\"I am going through Python sessions.Python is very good programming language\"\n",
        "desc.count(\"Python\")"
      ],
      "metadata": {
        "colab": {
          "base_uri": "https://localhost:8080/"
        },
        "id": "iJkJ9400w7ko",
        "outputId": "67a0ee4f-8f10-41c6-8da3-8e82dfd3cf6d"
      },
      "execution_count": null,
      "outputs": [
        {
          "output_type": "execute_result",
          "data": {
            "text/plain": [
              "2"
            ]
          },
          "metadata": {},
          "execution_count": 7
        }
      ]
    },
    {
      "cell_type": "markdown",
      "source": [
        "# New section"
      ],
      "metadata": {
        "id": "A6F1a5RUwrAy"
      }
    },
    {
      "cell_type": "code",
      "execution_count": null,
      "metadata": {
        "colab": {
          "base_uri": "https://localhost:8080/"
        },
        "id": "6d0xJz3VzLOo",
        "outputId": "9f3b9b58-a286-411e-ae29-1f19e4a30ef4"
      },
      "outputs": [
        {
          "output_type": "stream",
          "name": "stdout",
          "text": [
            "i am calling fun1\n",
            "i am in fun2\n"
          ]
        }
      ],
      "source": [
        "def fun1():\n",
        "    print(\"i am calling fun1\")\n",
        "\n",
        "def fun2():\n",
        "    fun1()\n",
        "    print(\"i am in fun2\")\n",
        "\n",
        "#calling \n",
        "fun2()\n",
        "\n"
      ]
    },
    {
      "cell_type": "markdown",
      "metadata": {
        "id": "k9q0pp33dckN"
      },
      "source": [
        "# Importing data from Google Sheets"
      ]
    },
    {
      "cell_type": "code",
      "execution_count": null,
      "metadata": {
        "colab": {
          "base_uri": "https://localhost:8080/"
        },
        "id": "JiJVCmu3dhFa",
        "outputId": "bd81812b-4bbd-405d-8a9c-674ed6c3241b"
      },
      "outputs": [
        {
          "output_type": "stream",
          "name": "stdout",
          "text": [
            "jms\n"
          ]
        }
      ],
      "source": [
        "str1 =\"james\"\n",
        "\n",
        "first=str1[0]\n",
        "last=str1[-1]\n",
        "midindex=int(len(str1)/2)\n",
        "middle=str1[midindex]\n",
        "print(first+middle+last)\n",
        "\n",
        "\n",
        "\n"
      ]
    },
    {
      "cell_type": "markdown",
      "source": [
        "# New section"
      ],
      "metadata": {
        "id": "LDVMzcKsL5OR"
      }
    }
  ],
  "metadata": {
    "colab": {
      "collapsed_sections": [],
      "name": "More  lios",
      "toc_visible": true,
      "provenance": []
    },
    "kernelspec": {
      "display_name": "Python 3",
      "name": "python3"
    }
  },
  "nbformat": 4,
  "nbformat_minor": 0
}